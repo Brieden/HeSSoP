{
 "cells": [
  {
   "cell_type": "markdown",
   "metadata": {},
   "source": [
    "# Helmet Streamer Simulation Program"
   ]
  },
  {
   "cell_type": "markdown",
   "metadata": {},
   "source": [
    "Basic equations of time-dependent resistive magnetohydrodynamics (MHD):\n",
    "# Basic equations\n",
    "\\begin{matrix}\n",
    "-\\rho \\mathbf{v} \\cdot \\nabla \\mathbf{v} - \\nabla P + \\mathbf{j} \\times \\mathbf{B} &=& \\rho \\dfrac{\\partial\\mathbf{v}}{\\partial t} &(1)&\n",
    "\\\\\n",
    "-\\nabla \\cdot (\\rho {\\mathbf  {v}})&=& \\dfrac{\\partial\\rho}{\\partial t}&(2)\\\\\n",
    "\\mathbf{E} + \\mathbf{v} \\times \\mathbf{B} &=& \\eta \\mathbf{j} &(3)&\\\\\n",
    "\\nabla \\cdot {\\mathbf{B}}&=&0&(4)\\\\\n",
    "\\mathbf{j} &=& \\dfrac{1}{\\eta_0} \\nabla \\times \\mathbf{B} &(5)&\\\\\n",
    "P &=& \\rho R T &(6)&\\\\\n",
    "\\dfrac{\\partial \\mathbf{B}}{\\partial t} &=& -\\nabla \\times {\\mathbf{E}}&(7)&\\\\\n",
    "\\dfrac{\\partial P}{\\partial t} + \\nabla \\cdot (P\\mathbf{v}) + (\\gamma - 1) P \\nabla \\cdot \\mathbf{v} &=& (\\gamma - 1)\\eta j^2 &(8)&\\\\\n",
    "\\end{matrix}\n",
    "\n",
    "_________________________________________________________________________________________________\n",
    "\n",
    "[1]\n",
    "\n",
    "|sign|declaration||sign|declaration|\n",
    "|---------|-----------|\n",
    "|$P$ | plasma pressur ||$\\mathbf{B}$  | magnetic field |\n",
    "|$\\rho$ | plasma density ||$\\mathbf{v}$ | plasa velocity |\n",
    "|$\\mathbf{E}$ | electric field ||$R$ | gas constant|\n",
    "|$T$ | temperatur ||$\\mathbf{j}$ | current density |\n",
    "|$\\eta$ | resistivity ||$\\gamma$ | adiabatic index |\n",
    "|$\\rho_0$ | vacuum permeability|\n",
    "\n",
    "\n"
   ]
  },
  {
   "cell_type": "markdown",
   "metadata": {},
   "source": [
    "MHD Equations\n",
    "     \n",
    "Continuity Equation \n",
    "     \n",
    "@t rho + nabla.(rho*v) = 0\n",
    "@t rho + v.nabla rho + rho*div v = 0 \n"
   ]
  },
  {
   "cell_type": "code",
   "execution_count": 2,
   "metadata": {},
   "outputs": [
    {
     "ename": "ModuleNotFoundError",
     "evalue": "No module named 'matplotlib'",
     "output_type": "error",
     "traceback": [
      "\u001b[0;31m---------------------------------------------------------------------------\u001b[0m",
      "\u001b[0;31mModuleNotFoundError\u001b[0m                       Traceback (most recent call last)",
      "\u001b[0;32m<ipython-input-2-4f2338257c9d>\u001b[0m in \u001b[0;36m<module>\u001b[0;34m()\u001b[0m\n\u001b[1;32m      1\u001b[0m \u001b[0;32mimport\u001b[0m \u001b[0mnumpy\u001b[0m \u001b[0;32mas\u001b[0m \u001b[0mnp\u001b[0m\u001b[0;34m\u001b[0m\u001b[0m\n\u001b[0;32m----> 2\u001b[0;31m \u001b[0;32mimport\u001b[0m \u001b[0mmatplotlib\u001b[0m\u001b[0;34m.\u001b[0m\u001b[0mpyplot\u001b[0m \u001b[0;32mas\u001b[0m \u001b[0mplt\u001b[0m\u001b[0;34m\u001b[0m\u001b[0m\n\u001b[0m",
      "\u001b[0;31mModuleNotFoundError\u001b[0m: No module named 'matplotlib'"
     ]
    }
   ],
   "source": [
    "import numpy as np\n",
    "import matplotlib.pyplot as plt"
   ]
  },
  {
   "cell_type": "code",
   "execution_count": 3,
   "metadata": {
    "collapsed": true
   },
   "outputs": [],
   "source": [
    "def initial_condition():\n",
    "    \"\"\"\n",
    "    Initialization of all fields\n",
    "\n",
    "    Based on T. Wiegelmann, K. Schindler and T. Neukirch\n",
    "    Helmet Streamers with Triple Structures: \n",
    "    Weakly Two-Dimensional Stationary States\n",
    "    ArXiv:astro-ph/971212v1\n",
    "    \"\"\"\n",
    "    x0 = 0\n",
    "    x02 = np.zeros((N_x, N_y, N_z))\n",
    "    a, eta0, zcusp = 0.1, 0.0005, 4\n",
    "\n",
    "    ho = 10\n",
    "    a_s = 0.1\n",
    "    c1 = 15\n",
    "    c2 = 15 \n",
    "    s1 = 0.8\n",
    "    s2 = 0.4\n",
    "    s3 = 0.2\n",
    "    k1 = 1\n",
    "    k2 = k1*np.exp(-(c1 + c2)*a_s)\n",
    "    x01 = 0.0\n",
    "\n",
    "    p0 = s1*np.exp(-s2*Z)+s3 \n",
    "    p[:] = p0\n",
    "    \n",
    "    xsep = ((1/c1)*np.sqrt(2/p0)\n",
    "           *np.arctanh(np.sqrt((p0 - k1*np.exp(-c1*a_s))/p0)))\n",
    "#          *datanh(dsqrt((p0 - k1*np.exp(-c1*as))/p0),val)   \n",
    "    \n",
    "    p1 = np.exp(s2*Z)*s3+s1\n",
    "    p2 = np.exp(a_s*c1+s2*Z)\n",
    "    p3 = np.exp(s2*Z)\n",
    "    p4 = np.exp(a_s*c1)\n",
    "    p5 = np.sqrt((p3*s3+s1)/(2*p3))\n",
    "    p6 = np.sqrt((-k1*p3+p3*p4*s3+p4*s1)/(p3*p4*s3+p4*s1))\n",
    "    p7 = c1*p5*X-c1*p5*x0\n",
    "    p8 = (np.sqrt((2*p3)/(p3*s3+s1))*np.arctanh(p6)*c1*p5 \n",
    "          + np.sqrt((2*p3)/(p3*s3+s1))*np.arctanh(p6)*c2*p5 \n",
    "          - c1*c2*p5*x0-c2*p7)\n",
    "    \n",
    "#    if(x .le. xsep) then X<xsep\n",
    "    ay[0,X<xsep] = (-(2/c1)*np.log(np.cosh(c1*np.sqrt(p0[X<xsep]/2)\n",
    "                    *(X[X<xsep] - 0)))+(1/c1)*np.log(p0[X<xsep]/k1))\n",
    "    bx[0,X<xsep] = ((s1*s2*(2*np.cosh(p7[X<xsep])*p3[X<xsep]*p5[X<xsep]\n",
    "                    -np.sinh(p7[X<xsep])*c1*p3[X<xsep]*s3*X[X<xsep] + np.sinh(p7[X<xsep])*c1*p3[X<xsep]*s3*x0\n",
    "                    -np.sinh(p7[X<xsep])*c1*s1*X[X<xsep] + np.sinh(p7[X<xsep])*c1*s1*x0))/\n",
    "                    (2*np.cosh(p7[X<xsep])*c1*p3[X<xsep]*p5[X<xsep]*(p3[X<xsep]*s3+s1)))\n",
    "    bz[0,X<xsep] = (-2*np.sinh(p7[X<xsep])*p5[X<xsep])/np.cosh(p7[X<xsep])\n",
    "    jy[0,X<xsep] = c1*p0[X<xsep]/(np.cosh(c1*X[X<xsep]*np.sqrt(p0[X<xsep]/2)))\n",
    "\n",
    "#    else X>=xsep\n",
    "    x02[X>=xsep] = (np.arctanh(np.sqrt((p0[X>=xsep] - k1*np.exp(-c1*a_s))/p0[X>=xsep]))*\n",
    "                    np.sqrt(2/p0[X>=xsep])*(1/c1 + 1/c2))\n",
    "    ay[0,X>=xsep]= (-(2/c2)*np.log(np.cosh(c2*np.sqrt(p0[X>=xsep]/2)\n",
    "                    *(X[X>=xsep] - x02[X>=xsep])))+(1/c2)*np.log(p0[X>=xsep]/k2))\n",
    "    bx[0,X>=xsep] = ((s1*s2*(2*np.sqrt((2*p3[X>=xsep])/(p3[X>=xsep]*s3+s1))*\n",
    "                    np.cosh(p8[X>=xsep]/c1)*c1*p3[X>=xsep]*p5[X>=xsep]*p6[X>=xsep]\n",
    "                    + np.sqrt((2*p3[X>=xsep])/(p3[X>=xsep]*s3+s1))*\n",
    "                    np.sinh(p8[X>=xsep]/c1)*c1*c2*p3[X>=xsep]*p6[X>=xsep]*s3*X[X>=xsep]\n",
    "                    + np.sqrt((2*p3[X>=xsep])/(p3[X>=xsep]*s3+s1))*\n",
    "                    np.sinh(p8[X>=xsep]/c1)*c1*c2*p6[X>=xsep]*s1*X[X>=xsep]\n",
    "                    - 2*np.sinh(p8[X>=xsep]/c1)*c1*p3[X>=xsep]\n",
    "                    - 2*np.sinh(p8[X>=xsep]/c1)*c2*p3[X>=xsep]))/\n",
    "                    (2*np.sqrt((2*p3[X>=xsep])/(p3[X>=xsep]*s3+s1))*\n",
    "                     np.cosh(p8[X>=xsep]/c1)*c1*c2*p3[X>=xsep] *\n",
    "                     p5[X>=xsep]*p6[X>=xsep]*(p3[X>=xsep]*s3+s1)))\n",
    "    bz[0,X>=xsep] = (2*np.sinh(p8[X>=xsep]/c1)*p5[X>=xsep])/np.cosh(p8[X>=xsep]/c1)\n",
    "    jy[0,X>=xsep] = c2*p0[X>=xsep]/(np.cosh(c2*X[X>=xsep]*np.sqrt(p0[X>=xsep]/2)))\n",
    "                \n",
    "    ax[:] = 0\n",
    "    az[:] = 0\n",
    "    by[:] = 0\n",
    "    gauss[:] = 0\n",
    "    rho[:] = p[:]*np.exp(-Z/ho)\n",
    "    jx[:] = 0\n",
    "    jz[:] = 0\n",
    "    energy[:] = (p[:]/(gamma - 1) + (bx[:]*bx[:] + by[:]*by[:]+ bz[:]*bz[:])/(2*mu))\n",
    "    eta[:] = (eta0*np.exp(-a*(Z-zcusp))*\n",
    "                    np.tanh(abs(jy[:])))\n",
    "#                   np.tanh(abs(dble(xjy(n,i,j,k))),val)\n",
    "    ex[:] = 0\n",
    "    ey[:] = eta[:]*jy[:]\n",
    "    ez[:] = 0   \n",
    "\n",
    "    plt.contour(energy[0, :, int(N_x/2)], 40)#, extent=(-0.5, 0.5, 0, 5))\n",
    "    plt.show()\n",
    "    plt.imshow(energy[0,:,int(N_x/2)])#, extent=(-0.5, 0.5, 0, 5))\n",
    "    plt.show()\n",
    "    \n",
    "    return vx, vy, vz, ax, ay, az, bx, by, bz, ex, ey, ez"
   ]
  },
  {
   "cell_type": "code",
   "execution_count": 4,
   "metadata": {
    "collapsed": true
   },
   "outputs": [],
   "source": [
    "def cfl_check():\n",
    "    \"\"\"Courant-Friedrichs-Lewy condition\"\"\"\n",
    "    dt[t_step] = (0.5 * max(vx[t_step-1].max(), vy[t_step-1].max(), vz[t_step-1].max())/\n",
    "                     max(delta_x, delta_y, delta_z))\n",
    "    if (0.001 <= dt[t_step] <= 2): \n",
    "        print(\"CFL Condition Warning:\\nstepsize of timestep \", \n",
    "              t_step, \"is unusual: \", dt[t_step])\n",
    "    return "
   ]
  },
  {
   "cell_type": "code",
   "execution_count": null,
   "metadata": {
    "collapsed": true
   },
   "outputs": [],
   "source": [
    "def derivativ(field, dirección): \n",
    "    \"\"\"\n",
    "    1st order central differencing\n",
    "    \"\"\"\n",
    "    if dirección == \"x\":\n",
    "        daxis = 0\n",
    "        delta = delta_x\n",
    "    elif dirección == \"y\":\n",
    "        daxis = 1\n",
    "        delta = delta_y\n",
    "    elif dirección == \"z\":\n",
    "        daxis = 2\n",
    "        delta = delta_z\n",
    "    else: \n",
    "        print(\"fail\")\n",
    "        return\n",
    "    return np.gradient(field, delta, axis=daxis)"
   ]
  },
  {
   "cell_type": "code",
   "execution_count": 3,
   "metadata": {
    "collapsed": true
   },
   "outputs": [],
   "source": [
    "###############################################################################\n",
    "#                                Parameters                                   #\n",
    "# Set the paramater:                                                          #\n",
    "#       number of gridpoints:   N_x, N_y, N_z                                 #\n",
    "#       number of timesteps:    N_t                                           #\n",
    "#       simuletad box size:     x_min, x_max, y_min, y_max, z_min, z_max      #\n",
    "#       gamma:                                                                #\n",
    "#       mu:                                                                   #\n",
    "###############################################################################\n",
    "N_x, N_y, N_z, N_t = 100, 100, 100, 5\n",
    "x_min, x_max, y_min, y_max, z_min, z_max = -0.5, 0.5, -0.5, 0.5, 0, 5\n",
    "gamma = 5/3\n",
    "mu = 1"
   ]
  },
  {
   "cell_type": "code",
   "execution_count": null,
   "metadata": {
    "collapsed": true
   },
   "outputs": [],
   "source": [
    "###############################################################################\n",
    "#                                   Main                                      #\n",
    "###############################################################################\n",
    "\n",
    "# calculate geometric step sizes\n",
    "delta_x, delta_y, delta_z =  (x_max - x_min)/N_x, (y_max - y_min)/N_y, (z_max - z_min)/N_z\n",
    "\n",
    "# generate grid coordinates\n",
    "x, y, z = np.linspace(x_min, x_max, N_x), np.linspace(y_min, y_max, N_y), np.linspace(z_min, z_max, N_z)\n",
    "X, Y, Z = np.meshgrid(x, y, z, indexing='ij')\n",
    "\n",
    "# declare 4 dimensional array: [time, x, y, z]\n",
    "#       plasma velocity: vx, vy, vz     vector potential: ax, ay, az    magnetic field: bx, by, bz      \n",
    "#       electric field:  ex, ey, ez     current density:  jx, jy, jz    energy density: energy\n",
    "#       mass density:    rho            plasma pressure:  p             magn. resistivity: eta\n",
    "#       divergence of b:  gauss                                 \n",
    "vx, vy, vz = np.zeros((N_t, N_x, N_y, N_z)), np.zeros((N_t, N_x, N_y, N_z)), np.zeros((N_t, N_x, N_y, N_z))\n",
    "ax, ay, az = np.zeros((N_t, N_x, N_y, N_z)), np.zeros((N_t, N_x, N_y, N_z)), np.zeros((N_t, N_x, N_y, N_z))\n",
    "bx, by, bz = np.zeros((N_t, N_x, N_y, N_z)), np.zeros((N_t, N_x, N_y, N_z)), np.zeros((N_t, N_x, N_y, N_z))\n",
    "ex, ey, ez = np.zeros((N_t, N_x, N_y, N_z)), np.zeros((N_t, N_x, N_y, N_z)), np.zeros((N_t, N_x, N_y, N_z))\n",
    "jx, jy, jz = np.zeros((N_t, N_x, N_y, N_z)), np.zeros((N_t, N_x, N_y, N_z)), np.zeros((N_t, N_x, N_y, N_z))\n",
    "energy, eta, gauss = np.zeros((N_t, N_x, N_y, N_z)), np.zeros((N_t, N_x, N_y, N_z)), np.zeros((N_t, N_x, N_y, N_z))\n",
    "p, rho = np.zeros((N_t, N_x, N_y, N_z)), np.zeros((N_t, N_x, N_y, N_z))\n",
    "dt = np.zeros(N_t)\n",
    "\n",
    "vx, vy, vz, ax, ay, az, bx, by, bz, ex, ey, ez = initial_condition()"
   ]
  },
  {
   "cell_type": "markdown",
   "metadata": {},
   "source": [
    "#   Motion Equation \n",
    "Startin with equation (2):  $-\\nabla \\cdot (\\rho {\\mathbf{v}})= \\dfrac{\\partial \\rho}{\\partial t}$\n"
   ]
  },
  {
   "cell_type": "markdown",
   "metadata": {
    "collapsed": true
   },
   "source": [
    "\\begin{equation*}\n",
    "\\frac{\\partial \\rho}{\\partial t} = -\\nabla (\\rho \\mathbf{v}) = -\\mathbf{v} \\nabla \\rho -\\rho \\nabla \\mathbf{v}\n",
    "\\\\\n",
    "\\frac{\\partial \\rho}{\\partial t} \\approx \\frac{\\rho_{n+1}-\\rho_n}{\\Delta t} =\n",
    "-\\begin{pmatrix} V_x \\\\\n",
    "                V_y \\\\\n",
    "                V_z \\end{pmatrix}\n",
    "\\begin{pmatrix} \\frac{\\partial }{\\partial x} \\\\\n",
    "                \\frac{\\partial }{\\partial y} \\\\  \n",
    "                \\frac{\\partial }{\\partial z} \\end{pmatrix}\n",
    "\\rho -\\rho \n",
    "\\begin{pmatrix} \\frac{\\partial }{\\partial x} \\\\\n",
    "                \\frac{\\partial }{\\partial y} \\\\  \n",
    "                \\frac{\\partial }{\\partial z} \\end{pmatrix}\n",
    "\\begin{pmatrix} V_x \\\\\n",
    "                V_y \\\\\n",
    "                V_z \\end{pmatrix} = \\\\\n",
    "= -(V_x\\frac{\\partial \\rho}{\\partial x} + V_y\\frac{\\partial \\rho}{\\partial y} + V_z\\frac{\\partial \\rho}{\\partial z})\n",
    "-\\rho(\\frac{\\partial V_x}{\\partial x} +\\frac{\\partial  V_y}{\\partial y} + \\frac{\\partial V_z}{\\partial z}) \\\\\n",
    "\\end{equation*}\n"
   ]
  },
  {
   "cell_type": "markdown",
   "metadata": {
    "collapsed": true
   },
   "source": [
    "\\begin{equation*}\\Downarrow \\\\\n",
    "\\rho_{n+1}\n",
    "= \\rho_n - {\\Delta t} \\left[\\left(V_x\\frac{\\partial \\rho}{\\partial x} + V_y\\frac{\\partial \\rho}{\\partial y} + V_z\\frac{\\partial \\rho}{\\partial z}\\right)\n",
    "+\\rho\\left(\\frac{\\partial V_x}{\\partial x} +\\frac{\\partial  V_y}{\\partial y} + \\frac{\\partial V_z}{\\partial z}\\right)\\right]\\\\\n",
    "\\end{equation*}\n"
   ]
  },
  {
   "cell_type": "code",
   "execution_count": null,
   "metadata": {
    "collapsed": true
   },
   "outputs": [],
   "source": []
  },
  {
   "cell_type": "code",
   "execution_count": null,
   "metadata": {
    "collapsed": true
   },
   "outputs": [],
   "source": [
    "#       main time loop\n",
    "for t_step in np.arange( 0, N_t - 1 ):\n",
    "    print(\"Starting with timestep \", t_step)\n",
    "    cfl_check()    \n",
    "    \n",
    "    vx[t_step + 1] = (  vx[t_step] \n",
    "                        + (    jy[t_step] * bz[t_step] \n",
    "                             - jz[t_step] * by[t_step]\n",
    "                             - derivativ(p[t_step], \"x\")\n",
    "                           )/rho[t_step]\n",
    "                        - vx[t_step] * derivativ(vx[t_step], \"x\")\n",
    "                        - vy[t_step] * derivativ(vx[t_step], \"y\") \n",
    "                        - vz[t_step] * derivativ(vx[t_step], \"z\"))\n",
    "\n",
    "  \n",
    "      vy(n+1,i,j,k) = vy(n,i,j,k) \n",
    "     $     + (yjxb(n,i,j,k) - dpy(n,i,j,k))/rho(n,i,j,k) \n",
    "     $     - vx(n,i,j,k)*dvyx(n,i,j,k) \n",
    "     $     - vy(n,i,j,k)*dvyy(n,i,j,k) \n",
    "     $     - vz(n,i,j,k)*dvyz(n,i,j,k) \n",
    "\n",
    "    vy[t_step + 1] = (  vy[t_step] \n",
    "                        + (    jy[t_step] * bz[t_step] \n",
    "                             - jz[t_step] * by[t_step]\n",
    "                             - derivativ(p[t_step], \"x\")\n",
    "                           )/rho[t_step]\n",
    "                        - vx[t_step] * derivativ(vy[t_step], \"x\")\n",
    "                        - vy[t_step] * derivativ(vy[t_step], \"y\") \n",
    "                        - vz[t_step] * derivativ(vy[t_step], \"z\"))\n",
    "\n",
    "    \n",
    "    "
   ]
  },
  {
   "cell_type": "code",
   "execution_count": 4,
   "metadata": {
    "collapsed": true
   },
   "outputs": [],
   "source": [
    "###############################################################################\n",
    "#                                  plotting                                   #\n",
    "###############################################################################\n",
    "plt.contour(bx[0, :, int(N_x/2)], 40)#, extent=(-0.5, 0.5, 0, 5))\n",
    "plt.show()"
   ]
  },
  {
   "cell_type": "code",
   "execution_count": null,
   "metadata": {
    "collapsed": true
   },
   "outputs": [],
   "source": []
  },
  {
   "cell_type": "code",
   "execution_count": null,
   "metadata": {
    "collapsed": true
   },
   "outputs": [],
   "source": []
  }
 ],
 "metadata": {
  "kernelspec": {
   "display_name": "Python 3",
   "language": "python",
   "name": "python3"
  },
  "language_info": {
   "codemirror_mode": {
    "name": "ipython",
    "version": 3
   },
   "file_extension": ".py",
   "mimetype": "text/x-python",
   "name": "python",
   "nbconvert_exporter": "python",
   "pygments_lexer": "ipython3",
   "version": "3.6.2"
  }
 },
 "nbformat": 4,
 "nbformat_minor": 2
}
